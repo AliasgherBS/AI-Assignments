{
 "cells": [
  {
   "cell_type": "code",
   "execution_count": 33,
   "metadata": {},
   "outputs": [],
   "source": [
    "\n",
    "import json # for preprocessing\n",
    "import numpy as np # for data manipulation\n",
    "import pandas as pd # for data manipulation\n",
    "from sklearn.model_selection import train_test_split # for data split\n",
    "from sklearn.preprocessing import LabelEncoder,StandardScaler # for preprocessing\n",
    "from sklearn.ensemble import RandomForestClassifier # for Training Model\n",
    "from sklearn.ensemble import ExtraTreesClassifier # For training model\n",
    "from sklearn.naive_bayes import GaussianNB\n",
    "from sklearn.metrics import accuracy_score\n",
    "import joblib # for saving trained model"
   ]
  },
  {
   "cell_type": "code",
   "execution_count": 56,
   "metadata": {},
   "outputs": [],
   "source": [
    "training_set = pd.read_excel('./parktraining.xlsx',header=None)\n",
    "test_set = pd.read_excel('./parktesting.xlsx',header=None)"
   ]
  },
  {
   "cell_type": "code",
   "execution_count": 57,
   "metadata": {},
   "outputs": [],
   "source": [
    "X = training_set.iloc[:,:-1]\n",
    "y = training_set.iloc[:,-1]\n",
    "\n",
    "X_test = test_set.iloc[:,:-1]\n",
    "y_test = test_set.iloc[:,-1]"
   ]
  },
  {
   "cell_type": "code",
   "execution_count": 58,
   "metadata": {},
   "outputs": [
    {
     "data": {
      "text/html": [
       "<div>\n",
       "<style scoped>\n",
       "    .dataframe tbody tr th:only-of-type {\n",
       "        vertical-align: middle;\n",
       "    }\n",
       "\n",
       "    .dataframe tbody tr th {\n",
       "        vertical-align: top;\n",
       "    }\n",
       "\n",
       "    .dataframe thead th {\n",
       "        text-align: right;\n",
       "    }\n",
       "</style>\n",
       "<table border=\"1\" class=\"dataframe\">\n",
       "  <thead>\n",
       "    <tr style=\"text-align: right;\">\n",
       "      <th></th>\n",
       "      <th>0</th>\n",
       "      <th>1</th>\n",
       "      <th>2</th>\n",
       "      <th>3</th>\n",
       "      <th>4</th>\n",
       "      <th>5</th>\n",
       "      <th>6</th>\n",
       "      <th>7</th>\n",
       "      <th>8</th>\n",
       "      <th>9</th>\n",
       "      <th>...</th>\n",
       "      <th>12</th>\n",
       "      <th>13</th>\n",
       "      <th>14</th>\n",
       "      <th>15</th>\n",
       "      <th>16</th>\n",
       "      <th>17</th>\n",
       "      <th>18</th>\n",
       "      <th>19</th>\n",
       "      <th>20</th>\n",
       "      <th>21</th>\n",
       "    </tr>\n",
       "  </thead>\n",
       "  <tbody>\n",
       "    <tr>\n",
       "      <th>0</th>\n",
       "      <td>187.733</td>\n",
       "      <td>202.324</td>\n",
       "      <td>173.015</td>\n",
       "      <td>0.00316</td>\n",
       "      <td>0.00002</td>\n",
       "      <td>0.00168</td>\n",
       "      <td>0.00182</td>\n",
       "      <td>0.00504</td>\n",
       "      <td>0.01663</td>\n",
       "      <td>0.151</td>\n",
       "      <td>...</td>\n",
       "      <td>0.01366</td>\n",
       "      <td>0.02488</td>\n",
       "      <td>0.00265</td>\n",
       "      <td>26.310</td>\n",
       "      <td>0.396793</td>\n",
       "      <td>0.758324</td>\n",
       "      <td>-6.006647</td>\n",
       "      <td>0.266892</td>\n",
       "      <td>2.382544</td>\n",
       "      <td>0.160691</td>\n",
       "    </tr>\n",
       "    <tr>\n",
       "      <th>1</th>\n",
       "      <td>186.163</td>\n",
       "      <td>197.724</td>\n",
       "      <td>177.584</td>\n",
       "      <td>0.00298</td>\n",
       "      <td>0.00002</td>\n",
       "      <td>0.00165</td>\n",
       "      <td>0.00175</td>\n",
       "      <td>0.00496</td>\n",
       "      <td>0.01495</td>\n",
       "      <td>0.135</td>\n",
       "      <td>...</td>\n",
       "      <td>0.01233</td>\n",
       "      <td>0.02321</td>\n",
       "      <td>0.00231</td>\n",
       "      <td>26.822</td>\n",
       "      <td>0.326480</td>\n",
       "      <td>0.765623</td>\n",
       "      <td>-6.647379</td>\n",
       "      <td>0.201095</td>\n",
       "      <td>2.374073</td>\n",
       "      <td>0.130554</td>\n",
       "    </tr>\n",
       "    <tr>\n",
       "      <th>2</th>\n",
       "      <td>184.055</td>\n",
       "      <td>196.537</td>\n",
       "      <td>166.977</td>\n",
       "      <td>0.00258</td>\n",
       "      <td>0.00001</td>\n",
       "      <td>0.00134</td>\n",
       "      <td>0.00147</td>\n",
       "      <td>0.00403</td>\n",
       "      <td>0.01463</td>\n",
       "      <td>0.132</td>\n",
       "      <td>...</td>\n",
       "      <td>0.01234</td>\n",
       "      <td>0.02226</td>\n",
       "      <td>0.00257</td>\n",
       "      <td>26.453</td>\n",
       "      <td>0.306443</td>\n",
       "      <td>0.759203</td>\n",
       "      <td>-7.044105</td>\n",
       "      <td>0.063412</td>\n",
       "      <td>2.361532</td>\n",
       "      <td>0.115730</td>\n",
       "    </tr>\n",
       "    <tr>\n",
       "      <th>3</th>\n",
       "      <td>237.226</td>\n",
       "      <td>247.326</td>\n",
       "      <td>225.227</td>\n",
       "      <td>0.00298</td>\n",
       "      <td>0.00001</td>\n",
       "      <td>0.00169</td>\n",
       "      <td>0.00182</td>\n",
       "      <td>0.00507</td>\n",
       "      <td>0.01752</td>\n",
       "      <td>0.164</td>\n",
       "      <td>...</td>\n",
       "      <td>0.01133</td>\n",
       "      <td>0.03104</td>\n",
       "      <td>0.00740</td>\n",
       "      <td>22.736</td>\n",
       "      <td>0.305062</td>\n",
       "      <td>0.654172</td>\n",
       "      <td>-7.310550</td>\n",
       "      <td>0.098648</td>\n",
       "      <td>2.416838</td>\n",
       "      <td>0.095032</td>\n",
       "    </tr>\n",
       "    <tr>\n",
       "      <th>4</th>\n",
       "      <td>241.404</td>\n",
       "      <td>248.834</td>\n",
       "      <td>232.483</td>\n",
       "      <td>0.00281</td>\n",
       "      <td>0.00001</td>\n",
       "      <td>0.00157</td>\n",
       "      <td>0.00173</td>\n",
       "      <td>0.00470</td>\n",
       "      <td>0.01760</td>\n",
       "      <td>0.154</td>\n",
       "      <td>...</td>\n",
       "      <td>0.01251</td>\n",
       "      <td>0.03017</td>\n",
       "      <td>0.00675</td>\n",
       "      <td>23.145</td>\n",
       "      <td>0.457702</td>\n",
       "      <td>0.634267</td>\n",
       "      <td>-6.793547</td>\n",
       "      <td>0.158266</td>\n",
       "      <td>2.256699</td>\n",
       "      <td>0.117399</td>\n",
       "    </tr>\n",
       "  </tbody>\n",
       "</table>\n",
       "<p>5 rows × 22 columns</p>\n",
       "</div>"
      ],
      "text/plain": [
       "        0        1        2        3        4        5        6        7   \\\n",
       "0  187.733  202.324  173.015  0.00316  0.00002  0.00168  0.00182  0.00504   \n",
       "1  186.163  197.724  177.584  0.00298  0.00002  0.00165  0.00175  0.00496   \n",
       "2  184.055  196.537  166.977  0.00258  0.00001  0.00134  0.00147  0.00403   \n",
       "3  237.226  247.326  225.227  0.00298  0.00001  0.00169  0.00182  0.00507   \n",
       "4  241.404  248.834  232.483  0.00281  0.00001  0.00157  0.00173  0.00470   \n",
       "\n",
       "        8      9   ...       12       13       14      15        16        17  \\\n",
       "0  0.01663  0.151  ...  0.01366  0.02488  0.00265  26.310  0.396793  0.758324   \n",
       "1  0.01495  0.135  ...  0.01233  0.02321  0.00231  26.822  0.326480  0.765623   \n",
       "2  0.01463  0.132  ...  0.01234  0.02226  0.00257  26.453  0.306443  0.759203   \n",
       "3  0.01752  0.164  ...  0.01133  0.03104  0.00740  22.736  0.305062  0.654172   \n",
       "4  0.01760  0.154  ...  0.01251  0.03017  0.00675  23.145  0.457702  0.634267   \n",
       "\n",
       "         18        19        20        21  \n",
       "0 -6.006647  0.266892  2.382544  0.160691  \n",
       "1 -6.647379  0.201095  2.374073  0.130554  \n",
       "2 -7.044105  0.063412  2.361532  0.115730  \n",
       "3 -7.310550  0.098648  2.416838  0.095032  \n",
       "4 -6.793547  0.158266  2.256699  0.117399  \n",
       "\n",
       "[5 rows x 22 columns]"
      ]
     },
     "execution_count": 58,
     "metadata": {},
     "output_type": "execute_result"
    }
   ],
   "source": [
    "X.head()"
   ]
  },
  {
   "cell_type": "code",
   "execution_count": 59,
   "metadata": {},
   "outputs": [
    {
     "data": {
      "text/plain": [
       "0    1\n",
       "1    1\n",
       "2    1\n",
       "3    0\n",
       "4    0\n",
       "Name: 22, dtype: int64"
      ]
     },
     "execution_count": 59,
     "metadata": {},
     "output_type": "execute_result"
    }
   ],
   "source": [
    "y.head()"
   ]
  },
  {
   "cell_type": "code",
   "execution_count": 60,
   "metadata": {},
   "outputs": [],
   "source": [
    "X = StandardScaler().fit_transform(X)"
   ]
  },
  {
   "cell_type": "code",
   "execution_count": 66,
   "metadata": {},
   "outputs": [
    {
     "name": "stderr",
     "output_type": "stream",
     "text": [
      "C:\\ProgramData\\Anaconda3\\lib\\site-packages\\sklearn\\ensemble\\forest.py:245: FutureWarning: The default value of n_estimators will change from 10 in version 0.20 to 100 in 0.22.\n",
      "  \"10 in version 0.20 to 100 in 0.22.\", FutureWarning)\n"
     ]
    }
   ],
   "source": [
    "model = GaussianNB()\n",
    "model = model.fit(X, y)\n",
    "\n",
    "model2 = RandomForestClassifier()\n",
    "model2 = model2.fit(X,y)"
   ]
  },
  {
   "cell_type": "code",
   "execution_count": 62,
   "metadata": {},
   "outputs": [],
   "source": [
    "X_test = StandardScaler().fit_transform(X_test)"
   ]
  },
  {
   "cell_type": "code",
   "execution_count": 63,
   "metadata": {},
   "outputs": [],
   "source": [
    "pred = model.predict(X_test)"
   ]
  },
  {
   "cell_type": "code",
   "execution_count": 64,
   "metadata": {},
   "outputs": [
    {
     "data": {
      "text/plain": [
       "0.6410256410256411"
      ]
     },
     "execution_count": 64,
     "metadata": {},
     "output_type": "execute_result"
    }
   ],
   "source": [
    "accuracy_score(y_test, pred)"
   ]
  },
  {
   "cell_type": "code",
   "execution_count": 67,
   "metadata": {},
   "outputs": [
    {
     "data": {
      "text/plain": [
       "0.7948717948717948"
      ]
     },
     "execution_count": 67,
     "metadata": {},
     "output_type": "execute_result"
    }
   ],
   "source": [
    "pred2 = model2.predict(X_test)\n",
    "accuracy_score(y_test, pred2)"
   ]
  },
  {
   "cell_type": "code",
   "execution_count": null,
   "metadata": {},
   "outputs": [],
   "source": []
  }
 ],
 "metadata": {
  "kernelspec": {
   "display_name": "Python 3",
   "language": "python",
   "name": "python3"
  },
  "language_info": {
   "codemirror_mode": {
    "name": "ipython",
    "version": 3
   },
   "file_extension": ".py",
   "mimetype": "text/x-python",
   "name": "python",
   "nbconvert_exporter": "python",
   "pygments_lexer": "ipython3",
   "version": "3.7.3"
  },
  "varInspector": {
   "cols": {
    "lenName": 16,
    "lenType": 16,
    "lenVar": 40
   },
   "kernels_config": {
    "python": {
     "delete_cmd_postfix": "",
     "delete_cmd_prefix": "del ",
     "library": "var_list.py",
     "varRefreshCmd": "print(var_dic_list())"
    },
    "r": {
     "delete_cmd_postfix": ") ",
     "delete_cmd_prefix": "rm(",
     "library": "var_list.r",
     "varRefreshCmd": "cat(var_dic_list()) "
    }
   },
   "types_to_exclude": [
    "module",
    "function",
    "builtin_function_or_method",
    "instance",
    "_Feature"
   ],
   "window_display": false
  }
 },
 "nbformat": 4,
 "nbformat_minor": 2
}
