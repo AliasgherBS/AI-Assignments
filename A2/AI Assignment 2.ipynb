{
 "cells": [
  {
   "cell_type": "markdown",
   "metadata": {},
   "source": [
    "# AI Assignment 2"
   ]
  },
  {
   "cell_type": "markdown",
   "metadata": {},
   "source": [
    "## Problem 1"
   ]
  },
  {
   "cell_type": "markdown",
   "metadata": {},
   "source": [
    "### References:\n",
    "\n",
    "https://towardsdatascience.com/introduction-to-genetic-algorithms-including-example-code-e396e98d8bf3\n",
    "\n",
    "\n",
    "https://towardsdatascience.com/introduction-to-optimization-with-genetic-algorithm-2f5001d9964b)"
   ]
  },
  {
   "cell_type": "code",
   "execution_count": 11,
   "metadata": {},
   "outputs": [],
   "source": [
    "import random\n",
    "from collections import Counter"
   ]
  },
  {
   "cell_type": "code",
   "execution_count": 38,
   "metadata": {},
   "outputs": [
    {
     "data": {
      "text/plain": [
       "[[1, 1, 0, 1, 1, 0, 0, 0],\n",
       " [0, 1, 1, 1, 0, 1, 0, 1],\n",
       " [1, 1, 0, 0, 0, 0, 1, 0],\n",
       " [0, 1, 0, 0, 0, 1, 1, 0]]"
      ]
     },
     "execution_count": 38,
     "metadata": {},
     "output_type": "execute_result"
    }
   ],
   "source": [
    "# initialization\n",
    "number_of_bits = 8\n",
    "population_size = 4\n",
    "inititial_population = []\n",
    "for i in range(0, population_size):\n",
    "    genome = []\n",
    "    for j in range(0, number_of_bits):\n",
    "        genome.append(random.randrange(2))\n",
    "    inititial_population.append(genome)\n",
    "\n",
    "inititial_population"
   ]
  },
  {
   "cell_type": "code",
   "execution_count": 39,
   "metadata": {},
   "outputs": [
    {
     "data": {
      "text/plain": [
       "[[0, 1, 1, 1, 0, 1, 0, 1],\n",
       " [1, 1, 0, 1, 1, 0, 0, 0],\n",
       " [1, 1, 0, 0, 0, 0, 1, 0],\n",
       " [0, 1, 1, 1, 0, 1, 0, 1]]"
      ]
     },
     "execution_count": 39,
     "metadata": {},
     "output_type": "execute_result"
    }
   ],
   "source": [
    "# selection\n",
    "selection_size = population_size - 1\n",
    "selected_population = sorted(inititial_population, key = lambda x: Counter(x)[1], reverse=True)[:selection_size]\n",
    "selected_population += [selected_population[0]]\n",
    "selected_population"
   ]
  },
  {
   "cell_type": "code",
   "execution_count": 59,
   "metadata": {},
   "outputs": [
    {
     "data": {
      "text/plain": [
       "[[0, 1, 1, 1, 1, 0, 0, 0],\n",
       " [1, 1, 0, 1, 0, 1, 1, 1],\n",
       " [1, 1, 0, 0, 1, 1, 0, 1],\n",
       " [0, 1, 1, 1, 1, 1, 0, 0]]"
      ]
     },
     "execution_count": 59,
     "metadata": {},
     "output_type": "execute_result"
    }
   ],
   "source": [
    "# crossover\n",
    "crossover_location = int(len(selected_population[0]) / 2)\n",
    "crossover_population = []\n",
    "for i in range(0, len(selected_population)):\n",
    "    genome = []\n",
    "    if i == 0:\n",
    "        genome = selected_population[i][:crossover_location]\n",
    "        genome += selected_population[i+1][crossover_location:]\n",
    "    else:\n",
    "        genome = selected_population[i][:crossover_location]\n",
    "        genome += selected_population[i-1][:crossover_location]\n",
    "    crossover_population.append(genome)\n",
    "crossover_population"
   ]
  },
  {
   "cell_type": "code",
   "execution_count": 61,
   "metadata": {},
   "outputs": [
    {
     "name": "stdout",
     "output_type": "stream",
     "text": [
      "[[0, 1, 1, 1, 1, 0, 0, 0], [1, 1, 0, 1, 1, 1, 1, 1], [1, 1, 0, 0, 1, 1, 1, 1], [0, 1, 1, 1, 1, 1, 0, 0]]\n"
     ]
    },
    {
     "data": {
      "text/plain": [
       "[[0, 1, 1, 1, 1, 1, 0, 0],\n",
       " [1, 1, 0, 0, 1, 1, 1, 1],\n",
       " [1, 1, 0, 0, 1, 1, 0, 1],\n",
       " [0, 1, 1, 1, 1, 1, 0, 0]]"
      ]
     },
     "execution_count": 61,
     "metadata": {},
     "output_type": "execute_result"
    }
   ],
   "source": [
    "# mutation\n",
    "mutation_population = crossover_population\n",
    "print(mutation_population)\n",
    "for i in range(0, len(mutation_population)):\n",
    "#     print(mutation_population[i])\n",
    "    mutation_index = random.randrange(len(mutation_population[i]))\n",
    "#     print(mutation_index)\n",
    "    mutation_population[i][mutation_index] = random.randrange(2)\n",
    "#     print(mutation_population[i])\n",
    "mutation_population"
   ]
  },
  {
   "cell_type": "code",
   "execution_count": 101,
   "metadata": {},
   "outputs": [
    {
     "data": {
      "text/plain": [
       "[1, 1, 0, 1, 1, 0, 1, 0, 1, 1]"
      ]
     },
     "execution_count": 101,
     "metadata": {},
     "output_type": "execute_result"
    }
   ],
   "source": [
    "iterations = 100\n",
    "number_of_bits = 10\n",
    "population_size = 8\n",
    "# initialization\n",
    "inititial_population = []\n",
    "for i in range(0, population_size):\n",
    "    genome = []\n",
    "    for j in range(0, number_of_bits):\n",
    "        genome.append(random.randrange(2))\n",
    "    inititial_population.append(genome)\n",
    "\n",
    "mutation_population = inititial_population\n",
    "\n",
    "for i in range(0, 1000):\n",
    "    inititial_population = mutation_population\n",
    "    \n",
    "    # selection\n",
    "    selection_size = population_size - 1\n",
    "    selected_population = sorted(inititial_population, key = lambda x: Counter(x)[1], reverse=True)[:selection_size]\n",
    "    selected_population += [selected_population[0]]\n",
    "#     selected_population\n",
    "    \n",
    "    # crossover\n",
    "    crossover_location = int(len(selected_population[0]) / 2)\n",
    "    crossover_population = []\n",
    "    for i in range(0, len(selected_population)):\n",
    "        genome = []\n",
    "        if i == 0:\n",
    "            genome = selected_population[i][:crossover_location]\n",
    "            genome += selected_population[i+1][crossover_location:]\n",
    "        else:\n",
    "            genome = selected_population[i][:crossover_location]\n",
    "            genome += selected_population[i-1][:crossover_location]\n",
    "        crossover_population.append(genome)\n",
    "#     crossover_population\n",
    "    \n",
    "    # mutation\n",
    "    mutation_population = crossover_population\n",
    "    \n",
    "    for i in range(0, len(mutation_population)):\n",
    "    #     print(mutation_population[i])\n",
    "        mutation_index = random.randrange(len(mutation_population[i]))\n",
    "    #     print(mutation_index)\n",
    "        mutation_population[i][mutation_index] = random.randrange(2)\n",
    "    #     print(mutation_population[i])\n",
    "#     mutation_population\n",
    "\n",
    "\n",
    "final_population = sorted(mutation_population, key = lambda x: Counter(x)[1], reverse=True)[0]\n",
    "final_population"
   ]
  },
  {
   "cell_type": "code",
   "execution_count": null,
   "metadata": {},
   "outputs": [],
   "source": []
  },
  {
   "cell_type": "code",
   "execution_count": null,
   "metadata": {},
   "outputs": [],
   "source": []
  }
 ],
 "metadata": {
  "kernelspec": {
   "display_name": "Python 3",
   "language": "python",
   "name": "python3"
  },
  "language_info": {
   "codemirror_mode": {
    "name": "ipython",
    "version": 3
   },
   "file_extension": ".py",
   "mimetype": "text/x-python",
   "name": "python",
   "nbconvert_exporter": "python",
   "pygments_lexer": "ipython3",
   "version": "3.7.3"
  }
 },
 "nbformat": 4,
 "nbformat_minor": 4
}
